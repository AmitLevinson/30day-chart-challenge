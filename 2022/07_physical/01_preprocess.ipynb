{
 "cells": [
  {
   "cell_type": "code",
   "execution_count": 1,
   "id": "70bf2eb2",
   "metadata": {},
   "outputs": [],
   "source": [
    "import pandas as pd\n",
    "import numpy as np"
   ]
  },
  {
   "cell_type": "code",
   "execution_count": 2,
   "id": "f75cf025",
   "metadata": {},
   "outputs": [],
   "source": [
    "df_raw = pd.read_csv(\"all_runners.csv\")"
   ]
  },
  {
   "cell_type": "code",
   "execution_count": 3,
   "id": "a151590f",
   "metadata": {},
   "outputs": [
    {
     "name": "stderr",
     "output_type": "stream",
     "text": [
      "C:\\Users\\amitl\\AppData\\Local\\Temp/ipykernel_13536/4205477561.py:8: UserWarning: This pattern has match groups. To actually get the groups, use str.extract.\n",
      "  df = df[~df['category'].str.contains(\"(אופני יד)\")]\n"
     ]
    }
   ],
   "source": [
    "# Drop first column\n",
    "df = df_raw.drop(df_raw.columns[[0,1]], axis= 1, inplace = False)\n",
    "# Rename columns\n",
    "df.columns = ['notes', \"personal_score\", \"club\", \"rank\", \"rank_category\", \"category\", \"name\", 'score']\n",
    "df['row_num'] = df.reset_index().index\n",
    "# Filter those who were disqualified and any bicycles\n",
    "df = df[df['notes'] != 'פסול']\n",
    "df = df[~df['category'].str.contains(\"(אופני יד)\")]\n",
    "# Convert to time delta -- Depracated\n",
    "# df[['personal_score', 'score']] = df[['personal_score', 'score']].apply(pd.to_timedelta)"
   ]
  },
  {
   "cell_type": "code",
   "execution_count": 5,
   "id": "813bd355",
   "metadata": {},
   "outputs": [],
   "source": [
    "splitdf = df.set_index('row_num')['category'].str.split(' ', expand = True)\n",
    "Not null columns?\n",
    "# 1. Check column 4:\n",
    "# splitdf[splitdf[4].notnull()].drop_duplicates() # Two categories for boys and girls until age 19, '10k' in column 4\n",
    "# 2. Check column 3:\n",
    "# splitdf[splitdf[3].notnull()].drop_duplicates() # When column 3 is not null we also have ק\"מ for senior women, 70-74"
   ]
  },
  {
   "cell_type": "code",
   "execution_count": 7,
   "id": "b0f988d6",
   "metadata": {},
   "outputs": [
    {
     "name": "stderr",
     "output_type": "stream",
     "text": [
      "C:\\Users\\amitl\\AppData\\Local\\Temp/ipykernel_13536/2262073072.py:39: FutureWarning: The default value of regex will change from True to False in a future version.\n",
      "  splitdf[0] = splitdf[0].str.replace('\\\\d\\\\d-\\\\d\\\\d', '')\n"
     ]
    }
   ],
   "source": [
    "# Arrange a higher up categores for seniors, adult women and women (and vice versa for men)\n",
    "age_categories = ['ותיקות', 'בוגרות', 'נשים', 'נערות']\n",
    "splitdf['higher_cat'] = np.where(splitdf[0].str.contains('|'.join(age_categories)),\n",
    "         'women', 'men')\n",
    "\n",
    "# Remove commas\n",
    "splitdf[1] = splitdf[1].str.replace(',', '')\n",
    "\n",
    "# Condditons for race length column\n",
    "conditions_2 = [\n",
    "    ((splitdf[2] == 'גיל') | \n",
    "    (splitdf[2] == '10') | (splitdf[2].str.contains('קמ')) | (splitdf[1] == \"10K\") |\n",
    "    splitdf[0].str.contains('40-44')),\n",
    "    (splitdf[2] == \"מרתון\")\n",
    "]\n",
    "choices_2 = ['10K', 'Marathon']\n",
    "splitdf[2] = np.select(conditions_2, choices_2, default = splitdf[2])\n",
    "\n",
    "# Conditions for age group cat\n",
    "conditions_1 = [\n",
    "    ((splitdf[0] == 'בוגרות44-40') | (splitdf[1] == \"44-40\")), # This should probably be generalized better with proper regex\n",
    "    (splitdf[1].str.contains('75') | (splitdf[1] == \"70-74\")),\n",
    "    (splitdf[1] == \"עד\"),\n",
    "    (splitdf[1] == \"69-65\"), # Ridiculous that for different groups these categories are opposite\n",
    "    ((splitdf[1] == \"64-60\") | (splitdf[1] == \"60-60\")),\n",
    "    (splitdf[1] == \"59-55\"),\n",
    "    (splitdf[1] == \"54-50\"),\n",
    "    (splitdf[1] == \"49-45\"),\n",
    "    (splitdf[1] == \"39-35\"),\n",
    "    (splitdf[1] == \"כללי\"),    \n",
    "    ]\n",
    "choices_1 = ['40-44', '70+', '< 19', '65-69', '60-64', '55-59', '50-54', '45-49', '35-39', 'General']\n",
    "splitdf[1] = np.select(conditions_1, choices_1, default=splitdf[1])\n",
    "\n",
    "# Remove age from minor category\n",
    "splitdf[0] = splitdf[0].str.replace('\\\\d\\\\d-\\\\d\\\\d', '')"
   ]
  },
  {
   "cell_type": "code",
   "execution_count": 8,
   "id": "54d1afc5",
   "metadata": {},
   "outputs": [],
   "source": [
    "splitdf = splitdf.drop(columns = [3,4])\n",
    "splitdf.head()\n",
    "splitdf = splitdf.rename(columns = {0: 'minor_cat', 1: \"age_cat\", 2: \"race_cat\"})"
   ]
  },
  {
   "cell_type": "code",
   "execution_count": 10,
   "id": "e85048ca",
   "metadata": {},
   "outputs": [],
   "source": [
    "cleandat = pd.merge(df, splitdf, on = 'row_num').drop(columns = ['category', 'name']).set_index('row_num')"
   ]
  },
  {
   "cell_type": "code",
   "execution_count": 11,
   "id": "a925c04a",
   "metadata": {},
   "outputs": [
    {
     "data": {
      "text/html": [
       "<div>\n",
       "<style scoped>\n",
       "    .dataframe tbody tr th:only-of-type {\n",
       "        vertical-align: middle;\n",
       "    }\n",
       "\n",
       "    .dataframe tbody tr th {\n",
       "        vertical-align: top;\n",
       "    }\n",
       "\n",
       "    .dataframe thead th {\n",
       "        text-align: right;\n",
       "    }\n",
       "</style>\n",
       "<table border=\"1\" class=\"dataframe\">\n",
       "  <thead>\n",
       "    <tr style=\"text-align: right;\">\n",
       "      <th></th>\n",
       "      <th>notes</th>\n",
       "      <th>personal_score</th>\n",
       "      <th>club</th>\n",
       "      <th>rank</th>\n",
       "      <th>rank_category</th>\n",
       "      <th>score</th>\n",
       "      <th>minor_cat</th>\n",
       "      <th>age_cat</th>\n",
       "      <th>race_cat</th>\n",
       "      <th>higher_cat</th>\n",
       "    </tr>\n",
       "    <tr>\n",
       "      <th>row_num</th>\n",
       "      <th></th>\n",
       "      <th></th>\n",
       "      <th></th>\n",
       "      <th></th>\n",
       "      <th></th>\n",
       "      <th></th>\n",
       "      <th></th>\n",
       "      <th></th>\n",
       "      <th></th>\n",
       "      <th></th>\n",
       "    </tr>\n",
       "  </thead>\n",
       "  <tbody>\n",
       "    <tr>\n",
       "      <th>0</th>\n",
       "      <td>NaN</td>\n",
       "      <td>02:12:54</td>\n",
       "      <td>Kenia</td>\n",
       "      <td>1</td>\n",
       "      <td>1</td>\n",
       "      <td>02:12:55</td>\n",
       "      <td>גברים</td>\n",
       "      <td>General</td>\n",
       "      <td>Marathon</td>\n",
       "      <td>men</td>\n",
       "    </tr>\n",
       "    <tr>\n",
       "      <th>1</th>\n",
       "      <td>NaN</td>\n",
       "      <td>02:15:37</td>\n",
       "      <td>Kenia</td>\n",
       "      <td>2</td>\n",
       "      <td>2</td>\n",
       "      <td>02:15:38</td>\n",
       "      <td>גברים</td>\n",
       "      <td>General</td>\n",
       "      <td>Marathon</td>\n",
       "      <td>men</td>\n",
       "    </tr>\n",
       "    <tr>\n",
       "      <th>2</th>\n",
       "      <td>NaN</td>\n",
       "      <td>02:17:50</td>\n",
       "      <td>Kenia</td>\n",
       "      <td>3</td>\n",
       "      <td>3</td>\n",
       "      <td>02:17:50</td>\n",
       "      <td>גברים</td>\n",
       "      <td>General</td>\n",
       "      <td>Marathon</td>\n",
       "      <td>men</td>\n",
       "    </tr>\n",
       "    <tr>\n",
       "      <th>3</th>\n",
       "      <td>NaN</td>\n",
       "      <td>02:24:14</td>\n",
       "      <td>מכבי אתלטי נגב</td>\n",
       "      <td>4</td>\n",
       "      <td>4</td>\n",
       "      <td>02:24:14</td>\n",
       "      <td>גברים</td>\n",
       "      <td>General</td>\n",
       "      <td>Marathon</td>\n",
       "      <td>men</td>\n",
       "    </tr>\n",
       "    <tr>\n",
       "      <th>4</th>\n",
       "      <td>NaN</td>\n",
       "      <td>02:30:24</td>\n",
       "      <td>Tel Aviv</td>\n",
       "      <td>5</td>\n",
       "      <td>5</td>\n",
       "      <td>02:30:25</td>\n",
       "      <td>גברים</td>\n",
       "      <td>General</td>\n",
       "      <td>Marathon</td>\n",
       "      <td>men</td>\n",
       "    </tr>\n",
       "  </tbody>\n",
       "</table>\n",
       "</div>"
      ],
      "text/plain": [
       "        notes personal_score            club  rank  rank_category     score  \\\n",
       "row_num                                                                       \n",
       "0         NaN       02:12:54           Kenia     1              1  02:12:55   \n",
       "1         NaN       02:15:37           Kenia     2              2  02:15:38   \n",
       "2         NaN       02:17:50           Kenia     3              3  02:17:50   \n",
       "3         NaN       02:24:14  מכבי אתלטי נגב     4              4  02:24:14   \n",
       "4         NaN       02:30:24        Tel Aviv     5              5  02:30:25   \n",
       "\n",
       "        minor_cat  age_cat  race_cat higher_cat  \n",
       "row_num                                          \n",
       "0           גברים  General  Marathon        men  \n",
       "1           גברים  General  Marathon        men  \n",
       "2           גברים  General  Marathon        men  \n",
       "3           גברים  General  Marathon        men  \n",
       "4           גברים  General  Marathon        men  "
      ]
     },
     "execution_count": 11,
     "metadata": {},
     "output_type": "execute_result"
    }
   ],
   "source": [
    "cleandat.head()"
   ]
  },
  {
   "cell_type": "code",
   "execution_count": 86,
   "id": "1f28189d",
   "metadata": {},
   "outputs": [],
   "source": [
    "cleandat.to_csv('clean_runners.csv',  encoding='utf-8')"
   ]
  }
 ],
 "metadata": {
  "kernelspec": {
   "display_name": "Python 3 (ipykernel)",
   "language": "python",
   "name": "python3"
  },
  "language_info": {
   "codemirror_mode": {
    "name": "ipython",
    "version": 3
   },
   "file_extension": ".py",
   "mimetype": "text/x-python",
   "name": "python",
   "nbconvert_exporter": "python",
   "pygments_lexer": "ipython3",
   "version": "3.10.1"
  }
 },
 "nbformat": 4,
 "nbformat_minor": 5
}
