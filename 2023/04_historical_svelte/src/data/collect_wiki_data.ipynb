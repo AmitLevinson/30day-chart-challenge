{
 "cells": [
  {
   "cell_type": "code",
   "execution_count": 4,
   "id": "6162fbac",
   "metadata": {},
   "outputs": [],
   "source": [
    "import urllib.request as urllib2\n",
    "import time\n",
    "from datetime import datetime\n",
    "import json\n",
    "from urllib.parse import urlencode, quote_plus     \n",
    "import pandas as pd"
   ]
  },
  {
   "cell_type": "code",
   "execution_count": 5,
   "id": "f26db388",
   "metadata": {},
   "outputs": [],
   "source": [
    "TOP_API_URL = 'https://wikimedia.org/api/rest_v1/metrics/pageviews/'\\\n",
    "              'top/{lang}.{project}/all-access/{year}/{month}/{day}'\n",
    "\n",
    "def get_traffic(year, month, day):\n",
    "    '''\\\n",
    "    Get the traffic report for the top 1000 articles for a given day.\n",
    "    TODO: Get from local file, if available\n",
    "    Taken from: https://towardsdatascience.com/scraping-wikipedia-page-views-to-make-a-2020-rewind-c9bcac97fa38\n",
    "    '''\n",
    "    url = TOP_API_URL.format(lang='he',\n",
    "                             project='wikipedia',\n",
    "                             year=year,\n",
    "                             month=month,\n",
    "                             day=day)\n",
    "    resp = urllib2.urlopen(url)\n",
    "    resp_bytes = resp.read()\n",
    "    data = json.loads(resp_bytes)\n",
    "    articles = data['items'][0]['articles']\n",
    "    return articles\n"
   ]
  },
  {
   "cell_type": "code",
   "execution_count": 7,
   "id": "c3b9e1ce",
   "metadata": {},
   "outputs": [],
   "source": [
    "dates_range = pd.date_range('2023-01-01','2023-04-01',freq='d')"
   ]
  },
  {
   "cell_type": "code",
   "execution_count": 8,
   "id": "f5524352",
   "metadata": {},
   "outputs": [
    {
     "name": "stdout",
     "output_type": "stream",
     "text": [
      "2023-01-01 00:00:00\n",
      "2023-01-02 00:00:00\n",
      "2023-01-03 00:00:00\n",
      "2023-01-04 00:00:00\n",
      "2023-01-05 00:00:00\n",
      "2023-01-06 00:00:00\n",
      "2023-01-07 00:00:00\n",
      "2023-01-08 00:00:00\n",
      "2023-01-09 00:00:00\n",
      "2023-01-10 00:00:00\n",
      "2023-01-11 00:00:00\n",
      "2023-01-12 00:00:00\n",
      "2023-01-13 00:00:00\n",
      "2023-01-14 00:00:00\n",
      "2023-01-15 00:00:00\n",
      "2023-01-16 00:00:00\n",
      "2023-01-17 00:00:00\n",
      "2023-01-18 00:00:00\n",
      "2023-01-19 00:00:00\n",
      "2023-01-20 00:00:00\n",
      "2023-01-21 00:00:00\n",
      "2023-01-22 00:00:00\n",
      "2023-01-23 00:00:00\n",
      "2023-01-24 00:00:00\n",
      "2023-01-25 00:00:00\n",
      "2023-01-26 00:00:00\n",
      "2023-01-27 00:00:00\n",
      "2023-01-28 00:00:00\n",
      "2023-01-29 00:00:00\n",
      "2023-01-30 00:00:00\n",
      "2023-01-31 00:00:00\n",
      "2023-02-01 00:00:00\n",
      "2023-02-02 00:00:00\n",
      "2023-02-03 00:00:00\n",
      "2023-02-04 00:00:00\n",
      "2023-02-05 00:00:00\n",
      "2023-02-06 00:00:00\n",
      "2023-02-07 00:00:00\n",
      "2023-02-08 00:00:00\n",
      "2023-02-09 00:00:00\n",
      "2023-02-10 00:00:00\n",
      "2023-02-11 00:00:00\n",
      "2023-02-12 00:00:00\n",
      "2023-02-13 00:00:00\n",
      "2023-02-14 00:00:00\n",
      "2023-02-15 00:00:00\n",
      "2023-02-16 00:00:00\n",
      "2023-02-17 00:00:00\n",
      "2023-02-18 00:00:00\n",
      "2023-02-19 00:00:00\n",
      "2023-02-20 00:00:00\n",
      "2023-02-21 00:00:00\n",
      "2023-02-22 00:00:00\n",
      "2023-02-23 00:00:00\n",
      "2023-02-24 00:00:00\n",
      "2023-02-25 00:00:00\n",
      "2023-02-26 00:00:00\n",
      "2023-02-27 00:00:00\n",
      "2023-02-28 00:00:00\n",
      "2023-03-01 00:00:00\n",
      "2023-03-02 00:00:00\n",
      "2023-03-03 00:00:00\n",
      "2023-03-04 00:00:00\n",
      "2023-03-05 00:00:00\n",
      "2023-03-06 00:00:00\n",
      "2023-03-07 00:00:00\n",
      "2023-03-08 00:00:00\n",
      "2023-03-09 00:00:00\n",
      "2023-03-10 00:00:00\n",
      "2023-03-11 00:00:00\n",
      "2023-03-12 00:00:00\n",
      "2023-03-13 00:00:00\n",
      "2023-03-14 00:00:00\n",
      "2023-03-15 00:00:00\n",
      "2023-03-16 00:00:00\n",
      "2023-03-17 00:00:00\n",
      "2023-03-18 00:00:00\n",
      "2023-03-19 00:00:00\n",
      "2023-03-20 00:00:00\n",
      "2023-03-21 00:00:00\n",
      "2023-03-22 00:00:00\n",
      "2023-03-23 00:00:00\n",
      "2023-03-24 00:00:00\n",
      "2023-03-25 00:00:00\n",
      "2023-03-26 00:00:00\n",
      "2023-03-27 00:00:00\n",
      "2023-03-28 00:00:00\n",
      "2023-03-29 00:00:00\n",
      "2023-03-30 00:00:00\n",
      "2023-03-31 00:00:00\n",
      "2023-04-01 00:00:00\n"
     ]
    }
   ],
   "source": [
    "lst = []\n",
    "for i, date in enumerate(dates_range):\n",
    "    print(date)\n",
    "    df = get_traffic(dates_range[i].year, f\"{dates_range[i]:%m}\", f\"{dates_range[i]:%d}\")\n",
    "    df = pd.DataFrame(df)\n",
    "    df['date'] = date\n",
    "    lst.append(df)\n",
    "    time.sleep(1)"
   ]
  },
  {
   "cell_type": "code",
   "execution_count": 9,
   "id": "d3be9aa4",
   "metadata": {},
   "outputs": [],
   "source": [
    "dat = pd.concat(lst)\n",
    "dat.to_csv('daily_data.tsv')"
   ]
  },
  {
   "cell_type": "code",
   "execution_count": 58,
   "id": "abb67a54",
   "metadata": {
    "scrolled": false
   },
   "outputs": [
    {
     "name": "stderr",
     "output_type": "stream",
     "text": [
      "C:\\Users\\amitl\\AppData\\Local\\Temp\\ipykernel_22660\\1218370233.py:7: UserWarning: This pattern is interpreted as a regular expression, and has match groups. To actually get the groups, use str.extract.\n",
      "  .loc[lambda df: ~(df.article.str.contains('(:|עמוד_ראשי)')), :]\n"
     ]
    }
   ],
   "source": [
    "top_15 = (dat\n",
    " .groupby('article')\n",
    " .agg(views = ('views', 'sum'))\n",
    " .sort_values(by = 'views', ascending = False)\n",
    " .head(25)\n",
    " .reset_index()\n",
    " .loc[lambda df: ~(df.article.str.contains('(:|עמוד_ראשי)')), :]\n",
    " .head(15)\n",
    " .replace({\"הזמר_במסכה_עונה_3_(תוכנית_טלוויזיה_ישראלית)\" :'הזמר_במסכה_עונה_3' })\n",
    ")"
   ]
  },
  {
   "cell_type": "code",
   "execution_count": 75,
   "id": "7e87ece0",
   "metadata": {},
   "outputs": [],
   "source": [
    "with open('top_15.json', 'w', encoding='utf-8') as file:\n",
    "    top_15.to_json(file, force_ascii=False, orient = 'index')"
   ]
  }
 ],
 "metadata": {
  "kernelspec": {
   "display_name": "Python 3 (ipykernel)",
   "language": "python",
   "name": "python3"
  },
  "language_info": {
   "codemirror_mode": {
    "name": "ipython",
    "version": 3
   },
   "file_extension": ".py",
   "mimetype": "text/x-python",
   "name": "python",
   "nbconvert_exporter": "python",
   "pygments_lexer": "ipython3",
   "version": "3.10.4"
  }
 },
 "nbformat": 4,
 "nbformat_minor": 5
}
